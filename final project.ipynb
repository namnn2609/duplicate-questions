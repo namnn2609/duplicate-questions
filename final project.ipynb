{
 "cells": [
  {
   "cell_type": "markdown",
   "metadata": {},
   "source": [
    "# Quora Question Pairs\n"
   ]
  },
  {
   "cell_type": "markdown",
   "metadata": {},
   "source": [
    "In this project,i will build regression model to predict probability duplicates of question pairs .We will use the [Quora Question Pairs](https://www.kaggle.com/c/quora-question-pairs/data) dataset from Kaggle"
   ]
  },
  {
   "cell_type": "code",
   "execution_count": 1,
   "metadata": {},
   "outputs": [
    {
     "name": "stderr",
     "output_type": "stream",
     "text": [
      "G:\\Temp\\TxGameDownload\\New folder\\lib\\site-packages\\statsmodels\\tools\\_testing.py:19: FutureWarning: pandas.util.testing is deprecated. Use the functions in the public API at pandas.testing instead.\n",
      "  import pandas.util.testing as tm\n"
     ]
    }
   ],
   "source": [
    "import numpy as np\n",
    "import pandas as pd\n",
    "import matplotlib.pyplot as plt\n",
    "import seaborn as sns\n",
    "from gensim import models"
   ]
  },
  {
   "cell_type": "code",
   "execution_count": 2,
   "metadata": {},
   "outputs": [],
   "source": [
    "data=pd.read_csv('train.csv')"
   ]
  },
  {
   "cell_type": "code",
   "execution_count": 3,
   "metadata": {},
   "outputs": [
    {
     "data": {
      "text/plain": [
       "(404290, 6)"
      ]
     },
     "execution_count": 3,
     "metadata": {},
     "output_type": "execute_result"
    }
   ],
   "source": [
    "data.shape"
   ]
  },
  {
   "cell_type": "code",
   "execution_count": 4,
   "metadata": {},
   "outputs": [
    {
     "data": {
      "text/html": [
       "<div>\n",
       "<style scoped>\n",
       "    .dataframe tbody tr th:only-of-type {\n",
       "        vertical-align: middle;\n",
       "    }\n",
       "\n",
       "    .dataframe tbody tr th {\n",
       "        vertical-align: top;\n",
       "    }\n",
       "\n",
       "    .dataframe thead th {\n",
       "        text-align: right;\n",
       "    }\n",
       "</style>\n",
       "<table border=\"1\" class=\"dataframe\">\n",
       "  <thead>\n",
       "    <tr style=\"text-align: right;\">\n",
       "      <th></th>\n",
       "      <th>id</th>\n",
       "      <th>qid1</th>\n",
       "      <th>qid2</th>\n",
       "      <th>question1</th>\n",
       "      <th>question2</th>\n",
       "      <th>is_duplicate</th>\n",
       "    </tr>\n",
       "  </thead>\n",
       "  <tbody>\n",
       "    <tr>\n",
       "      <th>0</th>\n",
       "      <td>0</td>\n",
       "      <td>1</td>\n",
       "      <td>2</td>\n",
       "      <td>What is the step by step guide to invest in sh...</td>\n",
       "      <td>What is the step by step guide to invest in sh...</td>\n",
       "      <td>0</td>\n",
       "    </tr>\n",
       "    <tr>\n",
       "      <th>1</th>\n",
       "      <td>1</td>\n",
       "      <td>3</td>\n",
       "      <td>4</td>\n",
       "      <td>What is the story of Kohinoor (Koh-i-Noor) Dia...</td>\n",
       "      <td>What would happen if the Indian government sto...</td>\n",
       "      <td>0</td>\n",
       "    </tr>\n",
       "    <tr>\n",
       "      <th>2</th>\n",
       "      <td>2</td>\n",
       "      <td>5</td>\n",
       "      <td>6</td>\n",
       "      <td>How can I increase the speed of my internet co...</td>\n",
       "      <td>How can Internet speed be increased by hacking...</td>\n",
       "      <td>0</td>\n",
       "    </tr>\n",
       "    <tr>\n",
       "      <th>3</th>\n",
       "      <td>3</td>\n",
       "      <td>7</td>\n",
       "      <td>8</td>\n",
       "      <td>Why am I mentally very lonely? How can I solve...</td>\n",
       "      <td>Find the remainder when [math]23^{24}[/math] i...</td>\n",
       "      <td>0</td>\n",
       "    </tr>\n",
       "    <tr>\n",
       "      <th>4</th>\n",
       "      <td>4</td>\n",
       "      <td>9</td>\n",
       "      <td>10</td>\n",
       "      <td>Which one dissolve in water quikly sugar, salt...</td>\n",
       "      <td>Which fish would survive in salt water?</td>\n",
       "      <td>0</td>\n",
       "    </tr>\n",
       "    <tr>\n",
       "      <th>5</th>\n",
       "      <td>5</td>\n",
       "      <td>11</td>\n",
       "      <td>12</td>\n",
       "      <td>Astrology: I am a Capricorn Sun Cap moon and c...</td>\n",
       "      <td>I'm a triple Capricorn (Sun, Moon and ascendan...</td>\n",
       "      <td>1</td>\n",
       "    </tr>\n",
       "    <tr>\n",
       "      <th>6</th>\n",
       "      <td>6</td>\n",
       "      <td>13</td>\n",
       "      <td>14</td>\n",
       "      <td>Should I buy tiago?</td>\n",
       "      <td>What keeps childern active and far from phone ...</td>\n",
       "      <td>0</td>\n",
       "    </tr>\n",
       "    <tr>\n",
       "      <th>7</th>\n",
       "      <td>7</td>\n",
       "      <td>15</td>\n",
       "      <td>16</td>\n",
       "      <td>How can I be a good geologist?</td>\n",
       "      <td>What should I do to be a great geologist?</td>\n",
       "      <td>1</td>\n",
       "    </tr>\n",
       "    <tr>\n",
       "      <th>8</th>\n",
       "      <td>8</td>\n",
       "      <td>17</td>\n",
       "      <td>18</td>\n",
       "      <td>When do you use シ instead of し?</td>\n",
       "      <td>When do you use \"&amp;\" instead of \"and\"?</td>\n",
       "      <td>0</td>\n",
       "    </tr>\n",
       "    <tr>\n",
       "      <th>9</th>\n",
       "      <td>9</td>\n",
       "      <td>19</td>\n",
       "      <td>20</td>\n",
       "      <td>Motorola (company): Can I hack my Charter Moto...</td>\n",
       "      <td>How do I hack Motorola DCX3400 for free internet?</td>\n",
       "      <td>0</td>\n",
       "    </tr>\n",
       "    <tr>\n",
       "      <th>10</th>\n",
       "      <td>10</td>\n",
       "      <td>21</td>\n",
       "      <td>22</td>\n",
       "      <td>Method to find separation of slits using fresn...</td>\n",
       "      <td>What are some of the things technicians can te...</td>\n",
       "      <td>0</td>\n",
       "    </tr>\n",
       "    <tr>\n",
       "      <th>11</th>\n",
       "      <td>11</td>\n",
       "      <td>23</td>\n",
       "      <td>24</td>\n",
       "      <td>How do I read and find my YouTube comments?</td>\n",
       "      <td>How can I see all my Youtube comments?</td>\n",
       "      <td>1</td>\n",
       "    </tr>\n",
       "    <tr>\n",
       "      <th>12</th>\n",
       "      <td>12</td>\n",
       "      <td>25</td>\n",
       "      <td>26</td>\n",
       "      <td>What can make Physics easy to learn?</td>\n",
       "      <td>How can you make physics easy to learn?</td>\n",
       "      <td>1</td>\n",
       "    </tr>\n",
       "    <tr>\n",
       "      <th>13</th>\n",
       "      <td>13</td>\n",
       "      <td>27</td>\n",
       "      <td>28</td>\n",
       "      <td>What was your first sexual experience like?</td>\n",
       "      <td>What was your first sexual experience?</td>\n",
       "      <td>1</td>\n",
       "    </tr>\n",
       "    <tr>\n",
       "      <th>14</th>\n",
       "      <td>14</td>\n",
       "      <td>29</td>\n",
       "      <td>30</td>\n",
       "      <td>What are the laws to change your status from a...</td>\n",
       "      <td>What are the laws to change your status from a...</td>\n",
       "      <td>0</td>\n",
       "    </tr>\n",
       "    <tr>\n",
       "      <th>15</th>\n",
       "      <td>15</td>\n",
       "      <td>31</td>\n",
       "      <td>32</td>\n",
       "      <td>What would a Trump presidency mean for current...</td>\n",
       "      <td>How will a Trump presidency affect the student...</td>\n",
       "      <td>1</td>\n",
       "    </tr>\n",
       "    <tr>\n",
       "      <th>16</th>\n",
       "      <td>16</td>\n",
       "      <td>33</td>\n",
       "      <td>34</td>\n",
       "      <td>What does manipulation mean?</td>\n",
       "      <td>What does manipulation means?</td>\n",
       "      <td>1</td>\n",
       "    </tr>\n",
       "    <tr>\n",
       "      <th>17</th>\n",
       "      <td>17</td>\n",
       "      <td>35</td>\n",
       "      <td>36</td>\n",
       "      <td>Why do girls want to be friends with the guy t...</td>\n",
       "      <td>How do guys feel after rejecting a girl?</td>\n",
       "      <td>0</td>\n",
       "    </tr>\n",
       "    <tr>\n",
       "      <th>18</th>\n",
       "      <td>18</td>\n",
       "      <td>37</td>\n",
       "      <td>38</td>\n",
       "      <td>Why are so many Quora users posting questions ...</td>\n",
       "      <td>Why do people ask Quora questions which can be...</td>\n",
       "      <td>1</td>\n",
       "    </tr>\n",
       "    <tr>\n",
       "      <th>19</th>\n",
       "      <td>19</td>\n",
       "      <td>39</td>\n",
       "      <td>40</td>\n",
       "      <td>Which is the best digital marketing institutio...</td>\n",
       "      <td>Which is the best digital marketing institute ...</td>\n",
       "      <td>0</td>\n",
       "    </tr>\n",
       "    <tr>\n",
       "      <th>20</th>\n",
       "      <td>20</td>\n",
       "      <td>41</td>\n",
       "      <td>42</td>\n",
       "      <td>Why do rockets look white?</td>\n",
       "      <td>Why are rockets and boosters painted white?</td>\n",
       "      <td>1</td>\n",
       "    </tr>\n",
       "    <tr>\n",
       "      <th>21</th>\n",
       "      <td>21</td>\n",
       "      <td>43</td>\n",
       "      <td>44</td>\n",
       "      <td>What's causing someone to be jealous?</td>\n",
       "      <td>What can I do to avoid being jealous of someone?</td>\n",
       "      <td>0</td>\n",
       "    </tr>\n",
       "    <tr>\n",
       "      <th>22</th>\n",
       "      <td>22</td>\n",
       "      <td>45</td>\n",
       "      <td>46</td>\n",
       "      <td>What are the questions should not ask on Quora?</td>\n",
       "      <td>Which question should I ask on Quora?</td>\n",
       "      <td>0</td>\n",
       "    </tr>\n",
       "    <tr>\n",
       "      <th>23</th>\n",
       "      <td>23</td>\n",
       "      <td>47</td>\n",
       "      <td>48</td>\n",
       "      <td>How much is 30 kV in HP?</td>\n",
       "      <td>Where can I find a conversion chart for CC to ...</td>\n",
       "      <td>0</td>\n",
       "    </tr>\n",
       "    <tr>\n",
       "      <th>24</th>\n",
       "      <td>24</td>\n",
       "      <td>49</td>\n",
       "      <td>50</td>\n",
       "      <td>What does it mean that every time I look at th...</td>\n",
       "      <td>How many times a day do a clock’s hands overlap?</td>\n",
       "      <td>0</td>\n",
       "    </tr>\n",
       "    <tr>\n",
       "      <th>25</th>\n",
       "      <td>25</td>\n",
       "      <td>51</td>\n",
       "      <td>52</td>\n",
       "      <td>What are some tips on making it through the jo...</td>\n",
       "      <td>What are some tips on making it through the jo...</td>\n",
       "      <td>0</td>\n",
       "    </tr>\n",
       "    <tr>\n",
       "      <th>26</th>\n",
       "      <td>26</td>\n",
       "      <td>53</td>\n",
       "      <td>54</td>\n",
       "      <td>What is web application?</td>\n",
       "      <td>What is the web application framework?</td>\n",
       "      <td>0</td>\n",
       "    </tr>\n",
       "    <tr>\n",
       "      <th>27</th>\n",
       "      <td>27</td>\n",
       "      <td>55</td>\n",
       "      <td>56</td>\n",
       "      <td>Does society place too much importance on sports?</td>\n",
       "      <td>How do sports contribute to the society?</td>\n",
       "      <td>0</td>\n",
       "    </tr>\n",
       "    <tr>\n",
       "      <th>28</th>\n",
       "      <td>28</td>\n",
       "      <td>57</td>\n",
       "      <td>58</td>\n",
       "      <td>What is best way to make money online?</td>\n",
       "      <td>What is best way to ask for money online?</td>\n",
       "      <td>0</td>\n",
       "    </tr>\n",
       "    <tr>\n",
       "      <th>29</th>\n",
       "      <td>29</td>\n",
       "      <td>59</td>\n",
       "      <td>60</td>\n",
       "      <td>How should I prepare for CA final law?</td>\n",
       "      <td>How one should know that he/she completely pre...</td>\n",
       "      <td>1</td>\n",
       "    </tr>\n",
       "  </tbody>\n",
       "</table>\n",
       "</div>"
      ],
      "text/plain": [
       "    id  qid1  qid2                                          question1  \\\n",
       "0    0     1     2  What is the step by step guide to invest in sh...   \n",
       "1    1     3     4  What is the story of Kohinoor (Koh-i-Noor) Dia...   \n",
       "2    2     5     6  How can I increase the speed of my internet co...   \n",
       "3    3     7     8  Why am I mentally very lonely? How can I solve...   \n",
       "4    4     9    10  Which one dissolve in water quikly sugar, salt...   \n",
       "5    5    11    12  Astrology: I am a Capricorn Sun Cap moon and c...   \n",
       "6    6    13    14                                Should I buy tiago?   \n",
       "7    7    15    16                     How can I be a good geologist?   \n",
       "8    8    17    18                    When do you use シ instead of し?   \n",
       "9    9    19    20  Motorola (company): Can I hack my Charter Moto...   \n",
       "10  10    21    22  Method to find separation of slits using fresn...   \n",
       "11  11    23    24        How do I read and find my YouTube comments?   \n",
       "12  12    25    26               What can make Physics easy to learn?   \n",
       "13  13    27    28        What was your first sexual experience like?   \n",
       "14  14    29    30  What are the laws to change your status from a...   \n",
       "15  15    31    32  What would a Trump presidency mean for current...   \n",
       "16  16    33    34                       What does manipulation mean?   \n",
       "17  17    35    36  Why do girls want to be friends with the guy t...   \n",
       "18  18    37    38  Why are so many Quora users posting questions ...   \n",
       "19  19    39    40  Which is the best digital marketing institutio...   \n",
       "20  20    41    42                         Why do rockets look white?   \n",
       "21  21    43    44              What's causing someone to be jealous?   \n",
       "22  22    45    46    What are the questions should not ask on Quora?   \n",
       "23  23    47    48                           How much is 30 kV in HP?   \n",
       "24  24    49    50  What does it mean that every time I look at th...   \n",
       "25  25    51    52  What are some tips on making it through the jo...   \n",
       "26  26    53    54                           What is web application?   \n",
       "27  27    55    56  Does society place too much importance on sports?   \n",
       "28  28    57    58             What is best way to make money online?   \n",
       "29  29    59    60             How should I prepare for CA final law?   \n",
       "\n",
       "                                            question2  is_duplicate  \n",
       "0   What is the step by step guide to invest in sh...             0  \n",
       "1   What would happen if the Indian government sto...             0  \n",
       "2   How can Internet speed be increased by hacking...             0  \n",
       "3   Find the remainder when [math]23^{24}[/math] i...             0  \n",
       "4             Which fish would survive in salt water?             0  \n",
       "5   I'm a triple Capricorn (Sun, Moon and ascendan...             1  \n",
       "6   What keeps childern active and far from phone ...             0  \n",
       "7           What should I do to be a great geologist?             1  \n",
       "8               When do you use \"&\" instead of \"and\"?             0  \n",
       "9   How do I hack Motorola DCX3400 for free internet?             0  \n",
       "10  What are some of the things technicians can te...             0  \n",
       "11             How can I see all my Youtube comments?             1  \n",
       "12            How can you make physics easy to learn?             1  \n",
       "13             What was your first sexual experience?             1  \n",
       "14  What are the laws to change your status from a...             0  \n",
       "15  How will a Trump presidency affect the student...             1  \n",
       "16                      What does manipulation means?             1  \n",
       "17           How do guys feel after rejecting a girl?             0  \n",
       "18  Why do people ask Quora questions which can be...             1  \n",
       "19  Which is the best digital marketing institute ...             0  \n",
       "20        Why are rockets and boosters painted white?             1  \n",
       "21   What can I do to avoid being jealous of someone?             0  \n",
       "22              Which question should I ask on Quora?             0  \n",
       "23  Where can I find a conversion chart for CC to ...             0  \n",
       "24   How many times a day do a clock’s hands overlap?             0  \n",
       "25  What are some tips on making it through the jo...             0  \n",
       "26             What is the web application framework?             0  \n",
       "27           How do sports contribute to the society?             0  \n",
       "28          What is best way to ask for money online?             0  \n",
       "29  How one should know that he/she completely pre...             1  "
      ]
     },
     "execution_count": 4,
     "metadata": {},
     "output_type": "execute_result"
    }
   ],
   "source": [
    "data.head(30)"
   ]
  },
  {
   "cell_type": "code",
   "execution_count": 5,
   "metadata": {},
   "outputs": [],
   "source": [
    "data=data.drop(['id','qid1','qid2'], axis=1)"
   ]
  },
  {
   "cell_type": "markdown",
   "metadata": {},
   "source": [
    "I will check how many null values in data. "
   ]
  },
  {
   "cell_type": "code",
   "execution_count": 6,
   "metadata": {},
   "outputs": [
    {
     "data": {
      "text/plain": [
       "question1       1\n",
       "question2       2\n",
       "is_duplicate    0\n",
       "dtype: int64"
      ]
     },
     "execution_count": 6,
     "metadata": {},
     "output_type": "execute_result"
    }
   ],
   "source": [
    "np.sum(pd.isnull(data),axis=0)"
   ]
  },
  {
   "cell_type": "code",
   "execution_count": 7,
   "metadata": {},
   "outputs": [
    {
     "name": "stdout",
     "output_type": "stream",
     "text": [
      "105780\n",
      "201841\n",
      "363362\n"
     ]
    }
   ],
   "source": [
    "drop_index=[]\n",
    "for i in range(data.shape[0]):\n",
    "    if(any(pd.isnull(data.iloc[i]))):\n",
    "        print(i)\n",
    "        drop_index.append(i)"
   ]
  },
  {
   "cell_type": "markdown",
   "metadata": {},
   "source": [
    "next,i check this is balance data?"
   ]
  },
  {
   "cell_type": "code",
   "execution_count": 8,
   "metadata": {},
   "outputs": [
    {
     "name": "stdout",
     "output_type": "stream",
     "text": [
      "Duplicate pairs: 36.92%\n"
     ]
    }
   ],
   "source": [
    "print('Duplicate pairs: {}%'.format(round(data['is_duplicate'].mean()*100, 2)))"
   ]
  },
  {
   "cell_type": "code",
   "execution_count": 9,
   "metadata": {},
   "outputs": [
    {
     "data": {
      "text/plain": [
       "question1       0\n",
       "question2       0\n",
       "is_duplicate    0\n",
       "dtype: int64"
      ]
     },
     "execution_count": 9,
     "metadata": {},
     "output_type": "execute_result"
    }
   ],
   "source": [
    "data_df=data.drop(drop_index)\n",
    "np.sum(pd.isnull(data_df),axis=0)"
   ]
  },
  {
   "cell_type": "code",
   "execution_count": 10,
   "metadata": {},
   "outputs": [],
   "source": [
    "import string\n",
    "\n",
    "translator = str.maketrans('', '', string.punctuation)\n",
    "\n",
    "def pre_process(text):\n",
    "    return text.translate(translator).lower()\n",
    "data_df[\"question1\"] = data_df[\"question1\"].apply(pre_process)\n",
    "data_df[\"question2\"] = data_df[\"question2\"].apply(pre_process)\n"
   ]
  },
  {
   "cell_type": "code",
   "execution_count": 11,
   "metadata": {},
   "outputs": [],
   "source": [
    "train_data=data_df.drop(['is_duplicate'], axis=1)"
   ]
  },
  {
   "cell_type": "code",
   "execution_count": 12,
   "metadata": {},
   "outputs": [],
   "source": [
    "from sklearn.feature_extraction.text import TfidfVectorizer\n",
    "vectorizer_1gram = TfidfVectorizer()\n",
    "X1=vectorizer_1gram.fit_transform(train_data[\"question1\"])"
   ]
  },
  {
   "cell_type": "code",
   "execution_count": 13,
   "metadata": {},
   "outputs": [],
   "source": [
    "X2=vectorizer_1gram.transform(train_data[\"question2\"])"
   ]
  },
  {
   "cell_type": "code",
   "execution_count": 14,
   "metadata": {},
   "outputs": [],
   "source": [
    "labels=data_df['is_duplicate']"
   ]
  },
  {
   "cell_type": "code",
   "execution_count": 15,
   "metadata": {},
   "outputs": [],
   "source": [
    "m=int(X1.shape[0]*0.8)\n",
    "X1_train=X1[:m]\n",
    "X2_train=X2[:m]\n",
    "X1_test=X1[m:]\n",
    "X2_test=X2[m:]\n",
    "label_train=labels[:m]\n",
    "label_test=labels[m:]\n"
   ]
  },
  {
   "cell_type": "code",
   "execution_count": 16,
   "metadata": {},
   "outputs": [
    {
     "data": {
      "text/plain": [
       "0.35972940216181454"
      ]
     },
     "execution_count": 16,
     "metadata": {},
     "output_type": "execute_result"
    }
   ],
   "source": [
    "(label_test==1).sum()/len(label_test)"
   ]
  },
  {
   "cell_type": "code",
   "execution_count": 17,
   "metadata": {},
   "outputs": [],
   "source": [
    "from sklearn.metrics.pairwise import cosine_similarity\n",
    "from sklearn.metrics import accuracy_score,f1_score,classification_report"
   ]
  },
  {
   "cell_type": "code",
   "execution_count": 18,
   "metadata": {},
   "outputs": [],
   "source": [
    "def getsimilarity(X1,X2):\n",
    "    k=[]\n",
    "    for i in range(X1.shape[0]):\n",
    "        k.append(cosine_similarity(X1_train[i],X2_train[i])[0][0])\n",
    "    return k"
   ]
  },
  {
   "cell_type": "code",
   "execution_count": 19,
   "metadata": {},
   "outputs": [],
   "source": [
    "similarity=getsimilarity(X1_train,X2_train)"
   ]
  },
  {
   "cell_type": "code",
   "execution_count": 20,
   "metadata": {},
   "outputs": [],
   "source": [
    "def choisethreshold(similarity,labels,metric,threshold):\n",
    "    predict=[1 if i>threshold else 0 for i in similarity]\n",
    "    score=metric(predict,labels)\n",
    "    return score"
   ]
  },
  {
   "cell_type": "code",
   "execution_count": 21,
   "metadata": {},
   "outputs": [
    {
     "name": "stdout",
     "output_type": "stream",
     "text": [
      "0.539061123152222 ---- 0.2\n",
      "0.5993556545640619 ---- 0.3\n",
      "0.6431086884602185 ---- 0.4\n",
      "0.6622999174471058 ---- 0.5\n",
      "0.6617495648194812 ---- 0.6\n",
      "0.6531541698487149 ---- 0.7\n",
      "0.6515123875719246 ---- 0.8\n",
      "0.654004433739708 ---- 0.9\n"
     ]
    }
   ],
   "source": [
    "for i in range(2,10):\n",
    "    s=choisethreshold(similarity,label_train,accuracy_score,i/10)\n",
    "    print(s,'----', i/10)"
   ]
  },
  {
   "cell_type": "markdown",
   "metadata": {},
   "source": [
    "----------------------------------threshold=0.5------------------------------------"
   ]
  },
  {
   "cell_type": "code",
   "execution_count": 22,
   "metadata": {},
   "outputs": [],
   "source": [
    "test_similarity=getsimilarity(X1_test,X2_test)"
   ]
  },
  {
   "cell_type": "code",
   "execution_count": 23,
   "metadata": {},
   "outputs": [
    {
     "name": "stdout",
     "output_type": "stream",
     "text": [
      "0.5010388582453189\n"
     ]
    }
   ],
   "source": [
    "print(choisethreshold(test_similarity,label_test,accuracy_score,0.5))"
   ]
  },
  {
   "cell_type": "markdown",
   "metadata": {},
   "source": [
    "# TRY LogisticRegression"
   ]
  },
  {
   "cell_type": "code",
   "execution_count": 24,
   "metadata": {},
   "outputs": [
    {
     "name": "stdout",
     "output_type": "stream",
     "text": [
      "(323429, 80902) 323429\n"
     ]
    }
   ],
   "source": [
    "X=X1_train+X2_train\n",
    "print(X.shape,len(label_train))"
   ]
  },
  {
   "cell_type": "code",
   "execution_count": 25,
   "metadata": {},
   "outputs": [
    {
     "name": "stdout",
     "output_type": "stream",
     "text": [
      "X1   (0, 36489)\t0.1802414779430659\n",
      "  (0, 44607)\t0.2815540551560502\n",
      "  (0, 65228)\t0.30863165756730837\n",
      "  (0, 36247)\t0.2057111674043878\n",
      "  (0, 37769)\t0.29657810733872475\n",
      "  (0, 72692)\t0.10369773192951218\n",
      "  (0, 32234)\t0.3653969018559771\n",
      "  (0, 13706)\t0.1997881013001491\n",
      "  (0, 68697)\t0.6764910254404864\n",
      "  (0, 71880)\t0.08084579917537567\n",
      "  (0, 38068)\t0.08835564823799753\n",
      "  (0, 78253)\t0.0809005143251242\n",
      "X2   (0, 78253)\t0.08363065878095738\n",
      "  (0, 72692)\t0.10719721262220676\n",
      "  (0, 71880)\t0.08357409716256792\n",
      "  (0, 68697)\t0.6993205245843958\n",
      "  (0, 65228)\t0.3190470302732927\n",
      "  (0, 44607)\t0.2910556417542818\n",
      "  (0, 38068)\t0.09133738061869764\n",
      "  (0, 37769)\t0.3065867096600682\n",
      "  (0, 36247)\t0.10632664447280289\n",
      "  (0, 32234)\t0.3777279276115317\n",
      "  (0, 13706)\t0.20653033751034147\n",
      "X   (0, 78253)\t0.16453117310608156\n",
      "  (0, 38068)\t0.1796930288566952\n",
      "  (0, 71880)\t0.16441989633794357\n",
      "  (0, 68697)\t1.3758115500248822\n",
      "  (0, 13706)\t0.40631843881049057\n",
      "  (0, 32234)\t0.7431248294675088\n",
      "  (0, 72692)\t0.21089494455171892\n",
      "  (0, 37769)\t0.6031648169987929\n",
      "  (0, 36247)\t0.3120378118771907\n",
      "  (0, 65228)\t0.6276786878406011\n",
      "  (0, 44607)\t0.572609696910332\n",
      "  (0, 36489)\t0.1802414779430659\n"
     ]
    }
   ],
   "source": [
    "print(\"X1\",X1_train[0])\n",
    "print(\"X2\",X2_train[0])\n",
    "print(\"X\",X[0])"
   ]
  },
  {
   "cell_type": "code",
   "execution_count": 26,
   "metadata": {},
   "outputs": [],
   "source": [
    "X_test=X1_test+X2_test"
   ]
  },
  {
   "cell_type": "code",
   "execution_count": 27,
   "metadata": {},
   "outputs": [],
   "source": [
    "from sklearn.linear_model import LogisticRegression\n",
    "clf=LogisticRegression(max_iter=1000).fit(X,label_train)"
   ]
  },
  {
   "cell_type": "code",
   "execution_count": 28,
   "metadata": {},
   "outputs": [
    {
     "data": {
      "text/plain": [
       "0.7894963036709757"
      ]
     },
     "execution_count": 28,
     "metadata": {},
     "output_type": "execute_result"
    }
   ],
   "source": [
    "clf.score(X,label_train)"
   ]
  },
  {
   "cell_type": "code",
   "execution_count": 29,
   "metadata": {},
   "outputs": [
    {
     "data": {
      "text/plain": [
       "0.7637834227905711"
      ]
     },
     "execution_count": 29,
     "metadata": {},
     "output_type": "execute_result"
    }
   ],
   "source": [
    "clf.score(X_test,label_test)"
   ]
  },
  {
   "cell_type": "markdown",
   "metadata": {},
   "source": [
    "# Try with 2-3 Ngram"
   ]
  },
  {
   "cell_type": "code",
   "execution_count": 30,
   "metadata": {},
   "outputs": [],
   "source": [
    "vectorizer_2_3gram = TfidfVectorizer(ngram_range=(2,3))"
   ]
  },
  {
   "cell_type": "code",
   "execution_count": 31,
   "metadata": {},
   "outputs": [],
   "source": [
    "X_1=vectorizer_2_3gram.fit_transform(train_data[\"question1\"])\n",
    "X_2=vectorizer_2_3gram.transform(train_data[\"question2\"])"
   ]
  },
  {
   "cell_type": "code",
   "execution_count": 32,
   "metadata": {},
   "outputs": [
    {
     "data": {
      "text/plain": [
       "(404287, 2269177)"
      ]
     },
     "execution_count": 32,
     "metadata": {},
     "output_type": "execute_result"
    }
   ],
   "source": [
    "X_1.shape"
   ]
  },
  {
   "cell_type": "code",
   "execution_count": 33,
   "metadata": {},
   "outputs": [],
   "source": [
    "X_1_train=X_1[:m]\n",
    "X_2_train=X_2[:m]\n",
    "X_1_test=X_1[m:]\n",
    "X_2_test=X_2[m:]"
   ]
  },
  {
   "cell_type": "code",
   "execution_count": 34,
   "metadata": {},
   "outputs": [],
   "source": [
    "X_=X_1_train+X_2_train"
   ]
  },
  {
   "cell_type": "code",
   "execution_count": 35,
   "metadata": {},
   "outputs": [],
   "source": [
    "X_test_=X_1_test+X_2_test"
   ]
  },
  {
   "cell_type": "code",
   "execution_count": 36,
   "metadata": {},
   "outputs": [],
   "source": [
    "import scipy.sparse as sp"
   ]
  },
  {
   "cell_type": "code",
   "execution_count": 37,
   "metadata": {},
   "outputs": [],
   "source": [
    "X_and_X_=sp.hstack((X, X_), format='csr')"
   ]
  },
  {
   "cell_type": "code",
   "execution_count": 38,
   "metadata": {},
   "outputs": [],
   "source": [
    "test_and_test_=sp.hstack((X_test,X_test_),format='csr')"
   ]
  },
  {
   "cell_type": "code",
   "execution_count": 39,
   "metadata": {},
   "outputs": [],
   "source": [
    "clf_23=LogisticRegression(max_iter=2000,C=1e1).fit(X_and_X_,label_train)"
   ]
  },
  {
   "cell_type": "code",
   "execution_count": 40,
   "metadata": {},
   "outputs": [
    {
     "data": {
      "text/plain": [
       "0.9931886132659719"
      ]
     },
     "execution_count": 40,
     "metadata": {},
     "output_type": "execute_result"
    }
   ],
   "source": [
    "clf_23.score(X_and_X_,label_train)"
   ]
  },
  {
   "cell_type": "code",
   "execution_count": 41,
   "metadata": {
    "scrolled": false
   },
   "outputs": [
    {
     "data": {
      "text/plain": [
       "0.8163199683395582"
      ]
     },
     "execution_count": 41,
     "metadata": {},
     "output_type": "execute_result"
    }
   ],
   "source": [
    "clf_23.score(test_and_test_,label_test)"
   ]
  },
  {
   "cell_type": "code",
   "execution_count": 42,
   "metadata": {},
   "outputs": [
    {
     "name": "stdout",
     "output_type": "stream",
     "text": [
      "              precision    recall  f1-score   support\n",
      "\n",
      "           0       0.84      0.89      0.86     51771\n",
      "           1       0.78      0.69      0.73     29087\n",
      "\n",
      "    accuracy                           0.82     80858\n",
      "   macro avg       0.81      0.79      0.80     80858\n",
      "weighted avg       0.81      0.82      0.81     80858\n",
      "\n"
     ]
    }
   ],
   "source": [
    "print(classification_report(label_test,clf_23.predict(test_and_test_)))"
   ]
  },
  {
   "cell_type": "code",
   "execution_count": 43,
   "metadata": {},
   "outputs": [],
   "source": [
    "from sklearn.svm import LinearSVC\n",
    "#SVM=SVC(kernel=\"linear\",max_iter=1000).fit(X_and_X_,label_train)"
   ]
  },
  {
   "cell_type": "code",
   "execution_count": 44,
   "metadata": {},
   "outputs": [],
   "source": [
    "LinearSVC_=LinearSVC(max_iter=5000,C=1e-1).fit(X_and_X_,label_train)"
   ]
  },
  {
   "cell_type": "code",
   "execution_count": 45,
   "metadata": {},
   "outputs": [
    {
     "data": {
      "text/plain": [
       "0.920801783389863"
      ]
     },
     "execution_count": 45,
     "metadata": {},
     "output_type": "execute_result"
    }
   ],
   "source": [
    "LinearSVC_.score(X_and_X_,label_train)"
   ]
  },
  {
   "cell_type": "code",
   "execution_count": 46,
   "metadata": {},
   "outputs": [
    {
     "data": {
      "text/plain": [
       "0.814266986569047"
      ]
     },
     "execution_count": 46,
     "metadata": {},
     "output_type": "execute_result"
    }
   ],
   "source": [
    "LinearSVC_.score(test_and_test_,label_test)"
   ]
  },
  {
   "cell_type": "code",
   "execution_count": 47,
   "metadata": {},
   "outputs": [
    {
     "name": "stderr",
     "output_type": "stream",
     "text": [
      "G:\\Temp\\TxGameDownload\\New folder\\lib\\site-packages\\sklearn\\linear_model\\_logistic.py:940: ConvergenceWarning: lbfgs failed to converge (status=1):\n",
      "STOP: TOTAL NO. of ITERATIONS REACHED LIMIT.\n",
      "\n",
      "Increase the number of iterations (max_iter) or scale the data as shown in:\n",
      "    https://scikit-learn.org/stable/modules/preprocessing.html\n",
      "Please also refer to the documentation for alternative solver options:\n",
      "    https://scikit-learn.org/stable/modules/linear_model.html#logistic-regression\n",
      "  extra_warning_msg=_LOGISTIC_SOLVER_CONVERGENCE_MSG)\n",
      "G:\\Temp\\TxGameDownload\\New folder\\lib\\site-packages\\sklearn\\linear_model\\_logistic.py:940: ConvergenceWarning: lbfgs failed to converge (status=1):\n",
      "STOP: TOTAL NO. of ITERATIONS REACHED LIMIT.\n",
      "\n",
      "Increase the number of iterations (max_iter) or scale the data as shown in:\n",
      "    https://scikit-learn.org/stable/modules/preprocessing.html\n",
      "Please also refer to the documentation for alternative solver options:\n",
      "    https://scikit-learn.org/stable/modules/linear_model.html#logistic-regression\n",
      "  extra_warning_msg=_LOGISTIC_SOLVER_CONVERGENCE_MSG)\n",
      "G:\\Temp\\TxGameDownload\\New folder\\lib\\site-packages\\sklearn\\linear_model\\_logistic.py:940: ConvergenceWarning: lbfgs failed to converge (status=1):\n",
      "STOP: TOTAL NO. of ITERATIONS REACHED LIMIT.\n",
      "\n",
      "Increase the number of iterations (max_iter) or scale the data as shown in:\n",
      "    https://scikit-learn.org/stable/modules/preprocessing.html\n",
      "Please also refer to the documentation for alternative solver options:\n",
      "    https://scikit-learn.org/stable/modules/linear_model.html#logistic-regression\n",
      "  extra_warning_msg=_LOGISTIC_SOLVER_CONVERGENCE_MSG)\n",
      "G:\\Temp\\TxGameDownload\\New folder\\lib\\site-packages\\sklearn\\linear_model\\_logistic.py:940: ConvergenceWarning: lbfgs failed to converge (status=1):\n",
      "STOP: TOTAL NO. of ITERATIONS REACHED LIMIT.\n",
      "\n",
      "Increase the number of iterations (max_iter) or scale the data as shown in:\n",
      "    https://scikit-learn.org/stable/modules/preprocessing.html\n",
      "Please also refer to the documentation for alternative solver options:\n",
      "    https://scikit-learn.org/stable/modules/linear_model.html#logistic-regression\n",
      "  extra_warning_msg=_LOGISTIC_SOLVER_CONVERGENCE_MSG)\n",
      "G:\\Temp\\TxGameDownload\\New folder\\lib\\site-packages\\sklearn\\linear_model\\_logistic.py:940: ConvergenceWarning: lbfgs failed to converge (status=1):\n",
      "STOP: TOTAL NO. of ITERATIONS REACHED LIMIT.\n",
      "\n",
      "Increase the number of iterations (max_iter) or scale the data as shown in:\n",
      "    https://scikit-learn.org/stable/modules/preprocessing.html\n",
      "Please also refer to the documentation for alternative solver options:\n",
      "    https://scikit-learn.org/stable/modules/linear_model.html#logistic-regression\n",
      "  extra_warning_msg=_LOGISTIC_SOLVER_CONVERGENCE_MSG)\n"
     ]
    },
    {
     "data": {
      "text/plain": [
       "{'C': 10.0}"
      ]
     },
     "execution_count": 47,
     "metadata": {},
     "output_type": "execute_result"
    }
   ],
   "source": [
    "from sklearn.model_selection import GridSearchCV\n",
    "parameter_LR={'C':[1e-1,1,1e1,1e2]}\n",
    "gird= GridSearchCV(LogisticRegression(max_iter=1000), parameter_LR)\n",
    "gird.fit(X_and_X_,label_train)\n",
    "gird.best_params_"
   ]
  },
  {
   "cell_type": "code",
   "execution_count": 48,
   "metadata": {},
   "outputs": [
    {
     "data": {
      "text/plain": [
       "VotingClassifier(estimators=[('lr',\n",
       "                              LogisticRegression(C=10.0, class_weight=None,\n",
       "                                                 dual=False, fit_intercept=True,\n",
       "                                                 intercept_scaling=1,\n",
       "                                                 l1_ratio=None, max_iter=2000,\n",
       "                                                 multi_class='auto',\n",
       "                                                 n_jobs=None, penalty='l2',\n",
       "                                                 random_state=None,\n",
       "                                                 solver='lbfgs', tol=0.0001,\n",
       "                                                 verbose=0, warm_start=False)),\n",
       "                             ('svm',\n",
       "                              LinearSVC(C=0.1, class_weight=None, dual=True,\n",
       "                                        fit_intercept=True, intercept_scaling=1,\n",
       "                                        loss='squared_hinge', max_iter=5000,\n",
       "                                        multi_class='ovr', penalty='l2',\n",
       "                                        random_state=None, tol=0.0001,\n",
       "                                        verbose=0))],\n",
       "                 flatten_transform=True, n_jobs=None, voting='hard',\n",
       "                 weights=None)"
      ]
     },
     "execution_count": 48,
     "metadata": {},
     "output_type": "execute_result"
    }
   ],
   "source": [
    "from sklearn.ensemble import VotingClassifier\n",
    "vote=VotingClassifier( estimators=[('lr', clf_23), ('svm', LinearSVC_)],voting='hard')\n",
    "vote.fit(X_and_X_,label_train)"
   ]
  },
  {
   "cell_type": "code",
   "execution_count": 49,
   "metadata": {
    "scrolled": true
   },
   "outputs": [
    {
     "data": {
      "text/plain": [
       "0.8178411536273467"
      ]
     },
     "execution_count": 49,
     "metadata": {},
     "output_type": "execute_result"
    }
   ],
   "source": [
    "vote.score(test_and_test_,label_test)"
   ]
  },
  {
   "cell_type": "markdown",
   "metadata": {},
   "source": [
    "# Errors analysis"
   ]
  },
  {
   "cell_type": "code",
   "execution_count": 50,
   "metadata": {},
   "outputs": [],
   "source": [
    "i=0\n",
    "j=0\n",
    "for i in range(len(label_test)):\n",
    "    if label_test.iloc[i]!=vote.predict(test_and_test_[i]):\n",
    "        if label_test.iloc[i]==1:\n",
    "            i=i+1\n",
    "        else:\n",
    "            j=j+1\n",
    "        "
   ]
  },
  {
   "cell_type": "code",
   "execution_count": 51,
   "metadata": {},
   "outputs": [
    {
     "name": "stdout",
     "output_type": "stream",
     "text": [
      "80857 4139\n"
     ]
    }
   ],
   "source": [
    "print(i,j)"
   ]
  },
  {
   "cell_type": "code",
   "execution_count": 52,
   "metadata": {},
   "outputs": [],
   "source": [
    "index_error=[]\n",
    "for i in range(len(label_test)):\n",
    "    if label_test.iloc[i]!=vote.predict(test_and_test_[i]):\n",
    "        index_error.append(i)"
   ]
  },
  {
   "cell_type": "code",
   "execution_count": 53,
   "metadata": {},
   "outputs": [
    {
     "name": "stdout",
     "output_type": "stream",
     "text": [
      "what are the best memory boosting techniques ------- what are the best memory techniques 1\n",
      "is square root of negative numbers imaginary ------- are square roots of negative numbers always imaginary 1\n",
      "what is a good facebook page name for entertainment and fun ------- suggest me a funny facebook page name 1\n",
      "what are the consumptive needs and activities impacts on the environment ------- what are consumptive needs and activities impacts on the environment 1\n",
      "what is a good youtube channel for learning about science ------- what are the best sitesyoutube channels about science 1\n",
      "when did usa and japan become allies given that the japanese bombed pearl harbour and the usa nuked japan ------- why do japan and the usa have good relations if the japanese killed thousands of innocent people at pearl harbor and the usa bombed japan with nukes 1\n",
      "what is arvind kejriwals view about the ban of 500 and 1000 rupee notes ------- why is arvind kejriwal opposing scrapping of rs500 and rs1000 notes scheme by modi government 0\n",
      "how can the usa allow their national flag’s design on undergarments dont they consider it as an insult to their national flag ------- my question was marked as needing improvement i dont see any flag marking it after editing my question how will i know the flag has been removed 0\n",
      "what universities in germany offer undergraduate programs only in english ------- which universities in germany teach undergraduate in english 1\n",
      "does a gniit course have any use ------- is there any value for course gniit 1\n",
      "what are the best life lessons ------- what have you learnt from your life until now 0\n",
      "how do i log into my instagram email ------- how do i log into instagram if i forgot my email 0\n",
      "what are some good resources to learn tagalog ------- what are the best resources for learning tagalog 1\n",
      "is avast better than kaspersky ------- which antivirus is better avast or kaspersky 1\n",
      "what is female reproductive system ------- what is the female reproductive system 1\n",
      "what are the best recommendations to live with a pet in an apartment ------- what are the best pets to have if you live in an apartment 1\n",
      "how does magnesium oxide react with water ------- what happens when magnesium oxide reacts with water 1\n",
      "what are some great side dishes to serve with crab salad ------- what are some great side dishes to serve with a minestrone soup 0\n",
      "should we buy a mobile phone with nonremovable battery ------- phone with removable battery or nonremovable battery which one is better and why 0\n",
      "what is the difference between sociology and economics ------- what is the difference between sociology and economy 1\n",
      "what was the worst experience you had with a police officer ------- what is the worst experience you have had with a police officer 1\n",
      "what does dreaming about snakes mean ------- how do i overcome dreams of snakes and what does it mean to dream about snake 1\n",
      "where can i get affordable painting and decorating service in brisbane ------- where can i get quality paint and decoration service at an affordable price in brisbane 1\n",
      "whats the difference between cyber security and information security ------- what is the difference between information security and cyber security 1\n",
      "how many hours of deep sleep needed per day ------- how many hours a night should people sleep 1\n",
      "what happens to your body when you oversleep everyday ------- what happens when you oversleep 1\n",
      "how do you cook cube steak ------- whats a good recipe for cube steak 1\n",
      "what is the meaning of life ------- what is meaning of life the universe and everything 1\n",
      "what are the character recognition algorithms used in ocr libraries like asprise tesseract etc ------- what is tesseract ocr what are the character recognition algorithms used in ocr libraries like asprise tesseract etc 1\n",
      "what are the best youtube channels for software developers and programmers ------- what are the best youtube channels for programmers 1\n",
      "to whoever has met leonardo dicaprio how tall is he ------- how tall is leonardo dicaprio 1\n",
      "what is a summary of “the loss of the creature” by walker percy ------- what is a summary of “the loss of the creature” by walker percy 1\n",
      "how do i make a good powerpoint presentation ------- what is the best way to go about making a powerpoint presentation 1\n",
      "what are some of the best zombie movies ------- what are the movies that everyone should watch 0\n",
      "what could cause wrist pain ------- what are the causes of wrist pain 1\n",
      "what does it mean when a girl sends a mix signal and what should i do ------- what does it mean when a girl sends mixed signals 0\n",
      "what are the top 5 worst naruto plot holes ------- what is the worst naruto plot hole 1\n",
      "does demonetisation actually work ------- has demonetisation really worked 1\n",
      "what are inert gases what are examples of this ------- what are some examples of inert gases 1\n",
      "how do i improve my programming skills from scratch on my own ------- how do i learn programming from zero ability 0\n",
      "why do people get sleepy after eating sugar ------- why do people get sleepy after eating 0\n",
      "how does crowdfunding work in india ------- why does crowdfunding not working in india 0\n",
      "is sleep deprivation irreversible ------- can good sleep recover the bad effect of sleep deprivation 0\n",
      "how ------- what are some of the best ways to learn programming 0\n",
      "what would be the best thing to invest indo with my money as a teenager ------- what is a good thing to invest your money intodo with your money when your a teenager 1\n",
      "is there any problem during certificate verification in govt jobs if there is only one letter spelling mistake in 10th and 12th certificate ------- my name in class 10th certificate is x y z whereas in class 12th certificate it is x y will it cause any problem during admission in colleges 1\n",
      "where are the origins of ayurved ------- where are the origins of the ayurveda 1\n",
      "what is the best method for clearing ielts ------- what is the best method to pass ielts 1\n",
      "which according to you is the best steven spielberg movie ------- what is the worst steven spielberg movie why 0\n",
      "i have a best friend whom i fell in love with very early i recently brought that up and realised that she doesnt feel the same way what can i do to get over her ------- i loved my best friend but she didnt feel the same how do i get over her 1\n",
      "why does prior history of epilepsy is disqualification for be blood donor ------- why people with history of epilepsy cannot donate blood 1\n",
      "is kashmir safe now for foreigners ------- safe to visit kashmir and ladakh 1\n",
      "what is a vacuum booster in brakes ------- how does a vacuum booster work and what is the “vacuum” in vacuum brake booster 1\n",
      "where do i buy raspberry pi in singapore ------- where in singapore can i buy the raspberry pi zero 0\n",
      "what is the meaning of special status to a state in india ------- what is the meaning of a special status to an indian state what are the criteria to get it and how does it help a state to grow well 1\n",
      "why is carbon monoxide poisonous to humans ------- why is carbon monoxide poisonous to plants and animals 0\n",
      "why is sexual assault on women common in india ------- why is sexual crime so common in india 1\n",
      "is microsofts bing search engine comparable to google in terms of accuracy ------- how do google and bing compare on search quality 1\n",
      "does counselling really work ------- does counseling really work 1\n",
      "why is project loon allowed despite the huge waste of precious helium gas ------- you are an er why you choose banking 0\n",
      "what is a good substitute for soy sauce in a recipe ------- how can i substitute soy sauce in a recipe 1\n",
      "what is your motivation in your daily life ------- what is your daily motivation 1\n",
      "what are the processes involved in manufacturing a punch holder ------- what is the processes involved in manufacturing a punch holder 1\n",
      "whats the worst thing you can do to someone ------- what is the worst thing you could do to someone 1\n",
      "what is the main secret behind the law of attraction ------- what factors affect the secret law of attraction 1\n",
      "who are the top vedic astrologers in india ------- who are the top 10 vedic astrologers based in india 1\n",
      "why do we dont fall off from our bicycles while riding ------- why do we not fall while riding a bike 1\n",
      "how black money in inr transferred and deposited into swiss banks in dollars ------- through what channel is the indian black money transferred to swiss banks 1\n",
      "can any one define me the differences between magnetic field line and magnetic field force ------- what is the difference between magnetic field and magnetic field lines 0\n",
      "how does consuming too much sugar on a daily basis weaken your immune system ------- does sugar suppress the effectiveness of the immune system 1\n",
      "what is the scariest thing you have heard ------- whats the scariest thing youve ever heard or witnessed 1\n",
      "what are the worlds most and least racist countries and why are they that way ------- what is the most racist country 1\n",
      "how can i increase my concentration ------- how do i improve concentration and increase my productivity 0\n",
      "what is a snuff video ------- what is a snuff video 1\n",
      "how can you make a friend ------- what is a good way to make friends read the details 0\n",
      "how does feminist philosophy differ from genderwomens studies ------- what differentiates gender studies from womens studies 0\n",
      "how can i increase my intelligence ------- why do i seek to increase my intelligence 0\n",
      "what are some examples of positive personal anecdotes ------- what is the the best way to stay a positive person 0\n",
      "how do you solve the issue of eating healthy the easy way ------- how do learn to cook healthy food in a quick and easy way 1\n",
      "can women have a collective instinct about something ------- can girls have a collective instinct about something 1\n",
      "if you have just passed your cfa level i what job opportunities are now relatively more open to you ------- what are the available job opportunities after passing cfa level 1 1\n",
      "is it possible to have black hole inside a black hole ------- is it possible to have a black hole inside another 1\n",
      "is population growth the most important factor for economic development why ------- what are the factors of economic development 0\n",
      "what can i buy my boss for boss day ------- what are you getting your boss for bosses day 0\n",
      "what is the business model of a wine shop in mumbai ------- how is the wine shop business operated in mumbai 1\n",
      "how do you know that you are a psychopath ------- how do i know if my parent is a psychopath 0\n",
      "iit story ------- what are some iit stories 1\n",
      "how different are you from your parents ------- how are you different from your parents 1\n",
      "how do i use google search to find companies ------- how do i use google search effectively for finding companies 1\n",
      "how fast does the milky way move ------- does the milky way orbit around anything if so whats its orbital period 0\n",
      "what are the unknown facts about indian currency notes ------- what are unknown  interesting facts about indian currency notes which most us are not aware of 1\n",
      "what is essaytyper ------- how can donald trump improve obamacare 0\n",
      "what were some characteristics of the agricultural revolution ------- what were the effects of the agricultural revolution 0\n",
      "how is twisted tea made ------- how do you make twisted tea 0\n",
      "who are the syriac people and what is their empire called ------- what is the empire called for the syriac people 1\n",
      "what is an alternative way to log in to facebook ------- what is an alternative way to log into facebook 1\n",
      "what is the best way to earn extra money from home ------- what is the best way to earn extra money at home 1\n",
      "was there never a beginning to the universe ------- did the universe have a beginning 0\n",
      "why do you prefer quora over yahoo answers ------- why is quora more popular than yahoo answers 0\n",
      "what were women using before always ultra ------- what were women using before pads 1\n"
     ]
    }
   ],
   "source": [
    "for i in index_error[500:600]:\n",
    "    print(data_df['question1'].iloc[i+m],'-------',data_df['question2'].iloc[i+m],label_test.iloc[i])"
   ]
  },
  {
   "cell_type": "code",
   "execution_count": null,
   "metadata": {},
   "outputs": [],
   "source": []
  },
  {
   "cell_type": "code",
   "execution_count": null,
   "metadata": {},
   "outputs": [],
   "source": []
  }
 ],
 "metadata": {
  "kernelspec": {
   "display_name": "Python 3",
   "language": "python",
   "name": "python3"
  },
  "language_info": {
   "codemirror_mode": {
    "name": "ipython",
    "version": 3
   },
   "file_extension": ".py",
   "mimetype": "text/x-python",
   "name": "python",
   "nbconvert_exporter": "python",
   "pygments_lexer": "ipython3",
   "version": "3.7.4"
  }
 },
 "nbformat": 4,
 "nbformat_minor": 2
}
